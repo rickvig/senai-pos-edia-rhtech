{
 "cells": [
  {
   "cell_type": "code",
   "execution_count": 1,
   "metadata": {},
   "outputs": [],
   "source": [
    "from cassandra.cluster import Cluster\n",
    "from cassandra.auth import PlainTextAuthProvider"
   ]
  },
  {
   "cell_type": "code",
   "execution_count": 7,
   "metadata": {},
   "outputs": [],
   "source": [
    "# CLIENT_ID = 'embHdUzOjFURpqdsJyGLdJzF'\n",
    "# CLIENT_SECRET = '1Dw.F6ds-2RUr+ARMDamRQ5TDtCJk280T5ynBSBmYanF7Fodd-4bESuBuIg-qgJEgp6q+59ZOP.s7Zszpgj.aKxX2bJkC+_rKAip_Smd.4DN-eSfjlfBWk6L5oHQxAS2'\n",
    "# TOKEN = 'AstraCS:embHdUzOjFURpqdsJyGLdJzF:9b83b5441169180a22cbe44490d65f976c36601367569a039fe2fc9e2978435b'\n",
    "\n",
    "\n",
    "CLIENT_ID = 'JvDOuCetRGLqHsZdGiWnazWQ'\n",
    "CLIENT_SECRET = 'DdcHnE7x3Z11tIaa1.C4D.LS_1PZGxspPaLUKhCEHzI.Lx,4zps6yBIedz-tWg5tM+0IHy-IF2PNzjb.g16x9IORf.55gkD.DlK9,ZTeOij7Gn9zb58j7XlXJkZn5pZQ'\n",
    "TOKEN = 'DdcHnE7x3Z11tIaa1.C4D.LS_1PZGxspPaLUKhCEHzI.Lx,4zps6yBIedz-tWg5tM+0IHy-IF2PNzjb.g16x9IORf.55gkD.DlK9,ZTeOij7Gn9zb58j7XlXJkZn5pZQ'"
   ]
  },
  {
   "cell_type": "code",
   "execution_count": 8,
   "metadata": {},
   "outputs": [
    {
     "data": {
      "text/plain": [
       "<cassandra.cluster.Session at 0x7fb83c525b20>"
      ]
     },
     "execution_count": 8,
     "metadata": {},
     "output_type": "execute_result"
    }
   ],
   "source": [
    "cloud_config= {\n",
    "        'secure_connect_bundle': 'secure-connect-rhtech.zip'\n",
    "}\n",
    "auth_provider = PlainTextAuthProvider(CLIENT_ID, CLIENT_SECRET)\n",
    "cluster = Cluster(cloud=cloud_config, auth_provider=auth_provider)\n",
    "session = cluster.connect()\n",
    "\n",
    "session"
   ]
  },
  {
   "cell_type": "code",
   "execution_count": 9,
   "metadata": {},
   "outputs": [
    {
     "name": "stdout",
     "output_type": "stream",
     "text": [
      "4.0.0.6816\n"
     ]
    }
   ],
   "source": [
    "row = session.execute(\"select release_version from system.local\").one()\n",
    "if row:\n",
    "    print(row[0])\n",
    "else:\n",
    "    print(\"An error occurred.\")"
   ]
  },
  {
   "cell_type": "code",
   "execution_count": 13,
   "metadata": {},
   "outputs": [],
   "source": [
    "rows = session.execute(\"INSERT INTO rh.cities(id,name,country) VALUES (3,'Curitiba','Brasil');\")"
   ]
  },
  {
   "cell_type": "code",
   "execution_count": 14,
   "metadata": {},
   "outputs": [
    {
     "name": "stdout",
     "output_type": "stream",
     "text": [
      "1 Brasil Londrina\n",
      "2 Brasil Maringá\n",
      "3 Brasil Curitiba\n"
     ]
    }
   ],
   "source": [
    "rows = session.execute('SELECT * FROM rh.cities')\n",
    "for user_row in rows:\n",
    "    print(user_row.id, user_row.country, user_row.name)"
   ]
  },
  {
   "cell_type": "code",
   "execution_count": null,
   "metadata": {},
   "outputs": [],
   "source": []
  }
 ],
 "metadata": {
  "kernelspec": {
   "display_name": "Python 3.9.7 ('base')",
   "language": "python",
   "name": "python3"
  },
  "language_info": {
   "codemirror_mode": {
    "name": "ipython",
    "version": 3
   },
   "file_extension": ".py",
   "mimetype": "text/x-python",
   "name": "python",
   "nbconvert_exporter": "python",
   "pygments_lexer": "ipython3",
   "version": "3.9.7"
  },
  "orig_nbformat": 4,
  "vscode": {
   "interpreter": {
    "hash": "0385ba11f7a349379fe37e11610c2be6fd49b16a3aeb7d4de0c2f7510f962c3b"
   }
  }
 },
 "nbformat": 4,
 "nbformat_minor": 2
}
