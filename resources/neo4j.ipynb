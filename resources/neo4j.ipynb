{
 "cells": [
  {
   "cell_type": "code",
   "execution_count": 1,
   "metadata": {},
   "outputs": [],
   "source": [
    "from neo4j import GraphDatabase\n",
    "from neo4j.exceptions import ServiceUnavailable"
   ]
  },
  {
   "cell_type": "code",
   "execution_count": 2,
   "metadata": {},
   "outputs": [
    {
     "data": {
      "text/plain": [
       "<neo4j.Neo4jDriver at 0x7fdbdd389340>"
      ]
     },
     "execution_count": 2,
     "metadata": {},
     "output_type": "execute_result"
    }
   ],
   "source": [
    "driver = GraphDatabase.driver(\"neo4j+s://100f53e5.databases.neo4j.io\", auth=(\"neo4j\", 'KJFr24ZSRZLfzloplVfwYh1Z0EttolS1BslIBo8-21g'))\n",
    "driver"
   ]
  },
  {
   "cell_type": "code",
   "execution_count": 8,
   "metadata": {},
   "outputs": [],
   "source": [
    "def create_and_return_friendship(tx):\n",
    "    query = (\n",
    "                \"CREATE (p1:Person { name: $person1_name }) \"\n",
    "                \"CREATE (p2:Person { name: $person2_name }) \"\n",
    "                \"CREATE (p1)-[:KNOWS]->(p2) \"\n",
    "                \"RETURN p1, p2\"\n",
    "            )\n",
    "    result = tx.run(query, person1_name=\"Alice\", person2_name=\"Ben\")\n",
    "    try:\n",
    "        return [{\"p1\": row[\"p1\"][\"name\"], \"p2\": row[\"p2\"][\"name\"]}\n",
    "                for row in result]\n",
    "    except ServiceUnavailable as exception:\n",
    "        print(\"{query} raised an error: \\n {exception}\".format(\n",
    "            query=query, exception=exception))\n",
    "        raise"
   ]
  },
  {
   "cell_type": "code",
   "execution_count": 9,
   "metadata": {},
   "outputs": [
    {
     "name": "stdout",
     "output_type": "stream",
     "text": [
      "Created friendship between: Alice, Ben\n"
     ]
    }
   ],
   "source": [
    "with driver.session() as session:\n",
    "    result = session.write_transaction(create_and_return_friendship)\n",
    "    \n",
    "    for row in result:\n",
    "        print(\"Created friendship between: {p1}, {p2}\".format(p1=row['p1'], p2=row['p2']))"
   ]
  },
  {
   "cell_type": "code",
   "execution_count": 12,
   "metadata": {},
   "outputs": [],
   "source": [
    "def find_and_return_person(tx):\n",
    "    query = (\n",
    "        '''\n",
    "        Match (p:Person) where p.born > 1990 RETURN p limit 10\n",
    "        '''\n",
    "    )\n",
    "    result = tx.run(query)\n",
    "    return [row for row in result]"
   ]
  },
  {
   "cell_type": "code",
   "execution_count": 13,
   "metadata": {},
   "outputs": [
    {
     "name": "stdout",
     "output_type": "stream",
     "text": [
      "Found person: <Record p=<Node id=44 labels=frozenset({'Person'}) properties={'born': 1996, 'name': 'Jonathan Lipnicki'}>>\n"
     ]
    }
   ],
   "source": [
    "with driver.session() as session:\n",
    "    result = session.read_transaction(find_and_return_person)\n",
    "    for row in result:\n",
    "        print(\"Found person: {row}\".format(row=row))"
   ]
  }
 ],
 "metadata": {
  "kernelspec": {
   "display_name": "Python 3.9.7 ('base')",
   "language": "python",
   "name": "python3"
  },
  "language_info": {
   "codemirror_mode": {
    "name": "ipython",
    "version": 3
   },
   "file_extension": ".py",
   "mimetype": "text/x-python",
   "name": "python",
   "nbconvert_exporter": "python",
   "pygments_lexer": "ipython3",
   "version": "3.9.7"
  },
  "orig_nbformat": 4,
  "vscode": {
   "interpreter": {
    "hash": "0385ba11f7a349379fe37e11610c2be6fd49b16a3aeb7d4de0c2f7510f962c3b"
   }
  }
 },
 "nbformat": 4,
 "nbformat_minor": 2
}
